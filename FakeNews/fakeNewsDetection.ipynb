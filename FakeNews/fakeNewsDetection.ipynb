{
 "cells": [
  {
   "cell_type": "markdown",
   "metadata": {},
   "source": [
    "# Import Necessary Modules"
   ]
  },
  {
   "cell_type": "code",
   "execution_count": 1,
   "metadata": {},
   "outputs": [],
   "source": [
    "import pandas as pd\n",
    "import numpy as np\n",
    "import itertools\n",
    "from sklearn.feature_extraction.text import CountVectorizer, TfidfVectorizer, HashingVectorizer\n",
    "from sklearn.model_selection import train_test_split, cross_val_score\n",
    "from sklearn.linear_model import PassiveAggressiveClassifier\n",
    "from sklearn.naive_bayes import MultinomialNB\n",
    "from sklearn import metrics\n",
    "import matplotlib.pyplot as plt\n",
    "from sklearn.linear_model import LogisticRegression"
   ]
  },
  {
   "cell_type": "code",
   "execution_count": 2,
   "metadata": {},
   "outputs": [
    {
     "name": "stdout",
     "output_type": "stream",
     "text": [
      "Populating the interactive namespace from numpy and matplotlib\n"
     ]
    }
   ],
   "source": [
    "%pylab inline"
   ]
  },
  {
   "cell_type": "markdown",
   "metadata": {},
   "source": [
    "# Preprocessing the Data Using Pandas"
   ]
  },
  {
   "cell_type": "code",
   "execution_count": 3,
   "metadata": {},
   "outputs": [],
   "source": [
    "df = pd.read_csv(\"fake_or_real_news.csv\")"
   ]
  },
  {
   "cell_type": "code",
   "execution_count": 4,
   "metadata": {},
   "outputs": [
    {
     "data": {
      "text/plain": [
       "(6335, 4)"
      ]
     },
     "execution_count": 4,
     "metadata": {},
     "output_type": "execute_result"
    }
   ],
   "source": [
    "df.shape"
   ]
  },
  {
   "cell_type": "code",
   "execution_count": 5,
   "metadata": {},
   "outputs": [
    {
     "data": {
      "text/html": [
       "<div>\n",
       "<style scoped>\n",
       "    .dataframe tbody tr th:only-of-type {\n",
       "        vertical-align: middle;\n",
       "    }\n",
       "\n",
       "    .dataframe tbody tr th {\n",
       "        vertical-align: top;\n",
       "    }\n",
       "\n",
       "    .dataframe thead th {\n",
       "        text-align: right;\n",
       "    }\n",
       "</style>\n",
       "<table border=\"1\" class=\"dataframe\">\n",
       "  <thead>\n",
       "    <tr style=\"text-align: right;\">\n",
       "      <th></th>\n",
       "      <th>Unnamed: 0</th>\n",
       "      <th>title</th>\n",
       "      <th>text</th>\n",
       "      <th>label</th>\n",
       "    </tr>\n",
       "  </thead>\n",
       "  <tbody>\n",
       "    <tr>\n",
       "      <th>0</th>\n",
       "      <td>8476</td>\n",
       "      <td>You Can Smell Hillary’s Fear</td>\n",
       "      <td>Daniel Greenfield, a Shillman Journalism Fello...</td>\n",
       "      <td>FAKE</td>\n",
       "    </tr>\n",
       "    <tr>\n",
       "      <th>1</th>\n",
       "      <td>10294</td>\n",
       "      <td>Watch The Exact Moment Paul Ryan Committed Pol...</td>\n",
       "      <td>Google Pinterest Digg Linkedin Reddit Stumbleu...</td>\n",
       "      <td>FAKE</td>\n",
       "    </tr>\n",
       "    <tr>\n",
       "      <th>2</th>\n",
       "      <td>3608</td>\n",
       "      <td>Kerry to go to Paris in gesture of sympathy</td>\n",
       "      <td>U.S. Secretary of State John F. Kerry said Mon...</td>\n",
       "      <td>REAL</td>\n",
       "    </tr>\n",
       "    <tr>\n",
       "      <th>3</th>\n",
       "      <td>10142</td>\n",
       "      <td>Bernie supporters on Twitter erupt in anger ag...</td>\n",
       "      <td>— Kaydee King (@KaydeeKing) November 9, 2016 T...</td>\n",
       "      <td>FAKE</td>\n",
       "    </tr>\n",
       "    <tr>\n",
       "      <th>4</th>\n",
       "      <td>875</td>\n",
       "      <td>The Battle of New York: Why This Primary Matters</td>\n",
       "      <td>It's primary day in New York and front-runners...</td>\n",
       "      <td>REAL</td>\n",
       "    </tr>\n",
       "  </tbody>\n",
       "</table>\n",
       "</div>"
      ],
      "text/plain": [
       "   Unnamed: 0                                              title  \\\n",
       "0        8476                       You Can Smell Hillary’s Fear   \n",
       "1       10294  Watch The Exact Moment Paul Ryan Committed Pol...   \n",
       "2        3608        Kerry to go to Paris in gesture of sympathy   \n",
       "3       10142  Bernie supporters on Twitter erupt in anger ag...   \n",
       "4         875   The Battle of New York: Why This Primary Matters   \n",
       "\n",
       "                                                text label  \n",
       "0  Daniel Greenfield, a Shillman Journalism Fello...  FAKE  \n",
       "1  Google Pinterest Digg Linkedin Reddit Stumbleu...  FAKE  \n",
       "2  U.S. Secretary of State John F. Kerry said Mon...  REAL  \n",
       "3  — Kaydee King (@KaydeeKing) November 9, 2016 T...  FAKE  \n",
       "4  It's primary day in New York and front-runners...  REAL  "
      ]
     },
     "execution_count": 5,
     "metadata": {},
     "output_type": "execute_result"
    }
   ],
   "source": [
    "df.head()"
   ]
  },
  {
   "cell_type": "code",
   "execution_count": 6,
   "metadata": {},
   "outputs": [],
   "source": [
    "df = df.set_index('Unnamed: 0')"
   ]
  },
  {
   "cell_type": "code",
   "execution_count": null,
   "metadata": {},
   "outputs": [],
   "source": []
  },
  {
   "cell_type": "code",
   "execution_count": 7,
   "metadata": {},
   "outputs": [
    {
     "data": {
      "text/html": [
       "<div>\n",
       "<style scoped>\n",
       "    .dataframe tbody tr th:only-of-type {\n",
       "        vertical-align: middle;\n",
       "    }\n",
       "\n",
       "    .dataframe tbody tr th {\n",
       "        vertical-align: top;\n",
       "    }\n",
       "\n",
       "    .dataframe thead th {\n",
       "        text-align: right;\n",
       "    }\n",
       "</style>\n",
       "<table border=\"1\" class=\"dataframe\">\n",
       "  <thead>\n",
       "    <tr style=\"text-align: right;\">\n",
       "      <th></th>\n",
       "      <th>title</th>\n",
       "      <th>text</th>\n",
       "      <th>label</th>\n",
       "    </tr>\n",
       "    <tr>\n",
       "      <th>Unnamed: 0</th>\n",
       "      <th></th>\n",
       "      <th></th>\n",
       "      <th></th>\n",
       "    </tr>\n",
       "  </thead>\n",
       "  <tbody>\n",
       "    <tr>\n",
       "      <th>8476</th>\n",
       "      <td>You Can Smell Hillary’s Fear</td>\n",
       "      <td>Daniel Greenfield, a Shillman Journalism Fello...</td>\n",
       "      <td>0</td>\n",
       "    </tr>\n",
       "    <tr>\n",
       "      <th>10294</th>\n",
       "      <td>Watch The Exact Moment Paul Ryan Committed Pol...</td>\n",
       "      <td>Google Pinterest Digg Linkedin Reddit Stumbleu...</td>\n",
       "      <td>0</td>\n",
       "    </tr>\n",
       "    <tr>\n",
       "      <th>3608</th>\n",
       "      <td>Kerry to go to Paris in gesture of sympathy</td>\n",
       "      <td>U.S. Secretary of State John F. Kerry said Mon...</td>\n",
       "      <td>1</td>\n",
       "    </tr>\n",
       "    <tr>\n",
       "      <th>10142</th>\n",
       "      <td>Bernie supporters on Twitter erupt in anger ag...</td>\n",
       "      <td>— Kaydee King (@KaydeeKing) November 9, 2016 T...</td>\n",
       "      <td>0</td>\n",
       "    </tr>\n",
       "    <tr>\n",
       "      <th>875</th>\n",
       "      <td>The Battle of New York: Why This Primary Matters</td>\n",
       "      <td>It's primary day in New York and front-runners...</td>\n",
       "      <td>1</td>\n",
       "    </tr>\n",
       "  </tbody>\n",
       "</table>\n",
       "</div>"
      ],
      "text/plain": [
       "                                                        title  \\\n",
       "Unnamed: 0                                                      \n",
       "8476                             You Can Smell Hillary’s Fear   \n",
       "10294       Watch The Exact Moment Paul Ryan Committed Pol...   \n",
       "3608              Kerry to go to Paris in gesture of sympathy   \n",
       "10142       Bernie supporters on Twitter erupt in anger ag...   \n",
       "875          The Battle of New York: Why This Primary Matters   \n",
       "\n",
       "                                                         text label  \n",
       "Unnamed: 0                                                           \n",
       "8476        Daniel Greenfield, a Shillman Journalism Fello...     0  \n",
       "10294       Google Pinterest Digg Linkedin Reddit Stumbleu...     0  \n",
       "3608        U.S. Secretary of State John F. Kerry said Mon...     1  \n",
       "10142       — Kaydee King (@KaydeeKing) November 9, 2016 T...     0  \n",
       "875         It's primary day in New York and front-runners...     1  "
      ]
     },
     "execution_count": 7,
     "metadata": {},
     "output_type": "execute_result"
    }
   ],
   "source": [
    "df.loc[df[\"label\"] == 'REAL',\"label\"] = 1\n",
    "df.loc[df[\"label\"] == 'FAKE',\"label\"] = 0\n",
    "df.head()"
   ]
  },
  {
   "cell_type": "markdown",
   "metadata": {},
   "source": [
    "# Preparing Data For Training"
   ]
  },
  {
   "cell_type": "code",
   "execution_count": 8,
   "metadata": {},
   "outputs": [],
   "source": [
    "y = df.label"
   ]
  },
  {
   "cell_type": "code",
   "execution_count": 9,
   "metadata": {},
   "outputs": [],
   "source": [
    "df = df.drop('label', axis=1)"
   ]
  },
  {
   "cell_type": "code",
   "execution_count": 10,
   "metadata": {},
   "outputs": [],
   "source": [
    "x_train, x_test, y_train, y_test = train_test_split(df['text'], y, test_size=0.2, random_state=53)"
   ]
  },
  {
   "cell_type": "code",
   "execution_count": null,
   "metadata": {},
   "outputs": [],
   "source": []
  },
  {
   "cell_type": "markdown",
   "metadata": {},
   "source": [
    "# Building Vectorizer Classifiers"
   ]
  },
  {
   "cell_type": "markdown",
   "metadata": {},
   "source": [
    "# Using Count Vectorizer"
   ]
  },
  {
   "cell_type": "code",
   "execution_count": 11,
   "metadata": {},
   "outputs": [],
   "source": [
    "cv = CountVectorizer()"
   ]
  },
  {
   "cell_type": "code",
   "execution_count": 12,
   "metadata": {},
   "outputs": [],
   "source": [
    "x_traincv = cv.fit_transform([\"This is a fake news\",\"It is a real news\",\"I like real\"])"
   ]
  },
  {
   "cell_type": "code",
   "execution_count": 13,
   "metadata": {},
   "outputs": [
    {
     "data": {
      "text/plain": [
       "array([[1, 1, 0, 0, 1, 0, 1],\n",
       "       [0, 1, 1, 0, 1, 1, 0],\n",
       "       [0, 0, 0, 1, 0, 1, 0]], dtype=int64)"
      ]
     },
     "execution_count": 13,
     "metadata": {},
     "output_type": "execute_result"
    }
   ],
   "source": [
    "x_traincv.toarray()"
   ]
  },
  {
   "cell_type": "code",
   "execution_count": 14,
   "metadata": {},
   "outputs": [
    {
     "data": {
      "text/plain": [
       "['fake', 'is', 'it', 'like', 'news', 'real', 'this']"
      ]
     },
     "execution_count": 14,
     "metadata": {},
     "output_type": "execute_result"
    }
   ],
   "source": [
    "cv.get_feature_names()"
   ]
  },
  {
   "cell_type": "code",
   "execution_count": 15,
   "metadata": {},
   "outputs": [],
   "source": [
    "cv1 = CountVectorizer()"
   ]
  },
  {
   "cell_type": "code",
   "execution_count": 16,
   "metadata": {},
   "outputs": [],
   "source": [
    "x_traincv1 = cv1.fit_transform(x_train)\n",
    "# x_testcv1 = cv1.fit_transform(x_test)"
   ]
  },
  {
   "cell_type": "code",
   "execution_count": 17,
   "metadata": {},
   "outputs": [],
   "source": [
    "a = x_traincv1.toarray()\n",
    "# b = x_testcv1.toarray()"
   ]
  },
  {
   "cell_type": "code",
   "execution_count": 18,
   "metadata": {},
   "outputs": [
    {
     "data": {
      "text/plain": [
       "array([[0, 0, 0, ..., 0, 0, 0],\n",
       "       [0, 0, 0, ..., 0, 0, 0],\n",
       "       [0, 0, 0, ..., 0, 0, 0],\n",
       "       ...,\n",
       "       [0, 0, 0, ..., 0, 0, 0],\n",
       "       [0, 0, 0, ..., 0, 0, 0],\n",
       "       [0, 0, 0, ..., 0, 0, 0]], dtype=int64)"
      ]
     },
     "execution_count": 18,
     "metadata": {},
     "output_type": "execute_result"
    }
   ],
   "source": [
    "a"
   ]
  },
  {
   "cell_type": "code",
   "execution_count": 19,
   "metadata": {},
   "outputs": [],
   "source": [
    "# b"
   ]
  },
  {
   "cell_type": "code",
   "execution_count": 20,
   "metadata": {},
   "outputs": [
    {
     "name": "stdout",
     "output_type": "stream",
     "text": [
      "61666\n"
     ]
    }
   ],
   "source": [
    "print(len(a[0]))\n",
    "# print(len(b[0]))"
   ]
  },
  {
   "cell_type": "code",
   "execution_count": null,
   "metadata": {},
   "outputs": [],
   "source": []
  },
  {
   "cell_type": "code",
   "execution_count": 21,
   "metadata": {},
   "outputs": [
    {
     "data": {
      "text/plain": [
       "'During the campaign, Trump had threatened to impose a large tariff to keep the jobs in the United States.'"
      ]
     },
     "execution_count": 21,
     "metadata": {},
     "output_type": "execute_result"
    }
   ],
   "source": [
    "x_train.iloc[2]"
   ]
  },
  {
   "cell_type": "markdown",
   "metadata": {},
   "source": [
    "# TFIDF Vectorizer"
   ]
  },
  {
   "cell_type": "code",
   "execution_count": 22,
   "metadata": {},
   "outputs": [],
   "source": [
    "tv = TfidfVectorizer(min_df=1,stop_words='english')"
   ]
  },
  {
   "cell_type": "code",
   "execution_count": 23,
   "metadata": {},
   "outputs": [],
   "source": [
    "x_traintv = tv.fit_transform([\"This is a fake news\",\"It is a real news\",\"I like real\"])"
   ]
  },
  {
   "cell_type": "code",
   "execution_count": 24,
   "metadata": {},
   "outputs": [
    {
     "data": {
      "text/plain": [
       "array([[0.79596054, 0.        , 0.60534851, 0.        ],\n",
       "       [0.        , 0.        , 0.70710678, 0.70710678],\n",
       "       [0.        , 0.79596054, 0.        , 0.60534851]])"
      ]
     },
     "execution_count": 24,
     "metadata": {},
     "output_type": "execute_result"
    }
   ],
   "source": [
    "x_traintv.toarray()"
   ]
  },
  {
   "cell_type": "code",
   "execution_count": 25,
   "metadata": {},
   "outputs": [
    {
     "data": {
      "text/plain": [
       "['fake', 'like', 'news', 'real']"
      ]
     },
     "execution_count": 25,
     "metadata": {},
     "output_type": "execute_result"
    }
   ],
   "source": [
    "tv.get_feature_names()"
   ]
  },
  {
   "cell_type": "code",
   "execution_count": 26,
   "metadata": {},
   "outputs": [],
   "source": [
    "tv1 = TfidfVectorizer(min_df=1,stop_words='english')"
   ]
  },
  {
   "cell_type": "code",
   "execution_count": 27,
   "metadata": {},
   "outputs": [],
   "source": [
    "x_traintv1 = tv1.fit_transform(x_train)"
   ]
  },
  {
   "cell_type": "code",
   "execution_count": 28,
   "metadata": {},
   "outputs": [
    {
     "data": {
      "text/plain": [
       "array([[0., 0., 0., ..., 0., 0., 0.],\n",
       "       [0., 0., 0., ..., 0., 0., 0.],\n",
       "       [0., 0., 0., ..., 0., 0., 0.],\n",
       "       ...,\n",
       "       [0., 0., 0., ..., 0., 0., 0.],\n",
       "       [0., 0., 0., ..., 0., 0., 0.],\n",
       "       [0., 0., 0., ..., 0., 0., 0.]])"
      ]
     },
     "execution_count": 28,
     "metadata": {},
     "output_type": "execute_result"
    }
   ],
   "source": [
    "x_traintv1.toarray()"
   ]
  },
  {
   "cell_type": "code",
   "execution_count": 29,
   "metadata": {},
   "outputs": [
    {
     "data": {
      "text/plain": [
       "['00',\n",
       " '000',\n",
       " '0000',\n",
       " '00000031',\n",
       " '000035',\n",
       " '00006',\n",
       " '0001',\n",
       " '0001pt',\n",
       " '000billion',\n",
       " '000ft',\n",
       " '000km',\n",
       " '000x',\n",
       " '001',\n",
       " '0011',\n",
       " '002',\n",
       " '003',\n",
       " '004',\n",
       " '006',\n",
       " '006s',\n",
       " '007',\n",
       " '007s',\n",
       " '008',\n",
       " '008s',\n",
       " '009',\n",
       " '0099',\n",
       " '00am',\n",
       " '00p',\n",
       " '00pm',\n",
       " '01',\n",
       " '010',\n",
       " '011',\n",
       " '013',\n",
       " '013c2812c9',\n",
       " '014',\n",
       " '015',\n",
       " '016',\n",
       " '018',\n",
       " '01am',\n",
       " '02',\n",
       " '020',\n",
       " '022',\n",
       " '023',\n",
       " '024',\n",
       " '025',\n",
       " '027',\n",
       " '02714',\n",
       " '028',\n",
       " '02870',\n",
       " '02welcome',\n",
       " '03',\n",
       " '031',\n",
       " '032',\n",
       " '0325',\n",
       " '033',\n",
       " '034',\n",
       " '035',\n",
       " '037',\n",
       " '03747',\n",
       " '039',\n",
       " '03eb',\n",
       " '04',\n",
       " '040',\n",
       " '0400',\n",
       " '042',\n",
       " '044',\n",
       " '047',\n",
       " '048',\n",
       " '049',\n",
       " '04pm',\n",
       " '05',\n",
       " '050',\n",
       " '0509245d29',\n",
       " '052',\n",
       " '056',\n",
       " '058',\n",
       " '06',\n",
       " '0600',\n",
       " '062',\n",
       " '066',\n",
       " '068',\n",
       " '06pm',\n",
       " '07',\n",
       " '0700',\n",
       " '075',\n",
       " '0750',\n",
       " '076',\n",
       " '079',\n",
       " '07dryempjx',\n",
       " '08',\n",
       " '080',\n",
       " '081',\n",
       " '082',\n",
       " '084',\n",
       " '0851',\n",
       " '089',\n",
       " '0891',\n",
       " '09',\n",
       " '091',\n",
       " '098263',\n",
       " '09am',\n",
       " '09pm',\n",
       " '0_65b67362bd',\n",
       " '0_jgdktlmn',\n",
       " '0a_merrill',\n",
       " '0d',\n",
       " '0dpbdk6rjd',\n",
       " '0fjjvowyhg8qtskiz',\n",
       " '0h4at2yetra17uxetni02ls2jeg0mty45jrcu7mrzsrpcbq464i',\n",
       " '0hq3vb2giv',\n",
       " '0in',\n",
       " '0jsn6pjkan',\n",
       " '0oeekvljlt',\n",
       " '0pt',\n",
       " '0t5',\n",
       " '0txrbwvobzz4fi5nksw6k5a6cxzbb3juxthmdiz93cby8gvrqiypzhajvjnt2',\n",
       " '0womdwalmi',\n",
       " '0x',\n",
       " '10',\n",
       " '100',\n",
       " '1000',\n",
       " '10009020',\n",
       " '1000s',\n",
       " '1001',\n",
       " '10021',\n",
       " '10028',\n",
       " '100515p',\n",
       " '100bn',\n",
       " '100c',\n",
       " '100k',\n",
       " '100m',\n",
       " '100percentfedup',\n",
       " '100s',\n",
       " '100th',\n",
       " '101',\n",
       " '1010359',\n",
       " '1013',\n",
       " '1014',\n",
       " '1019',\n",
       " '101st',\n",
       " '102',\n",
       " '1024026',\n",
       " '1026',\n",
       " '102816',\n",
       " '102836002',\n",
       " '102k',\n",
       " '102m',\n",
       " '103',\n",
       " '1033',\n",
       " '103rd',\n",
       " '104',\n",
       " '1040',\n",
       " '104396002',\n",
       " '1046870142',\n",
       " '1046870197',\n",
       " '104893',\n",
       " '105',\n",
       " '106',\n",
       " '106116001',\n",
       " '1066',\n",
       " '107',\n",
       " '1070',\n",
       " '107th',\n",
       " '108',\n",
       " '109',\n",
       " '1095',\n",
       " '1098',\n",
       " '10bn',\n",
       " '10ft',\n",
       " '10k',\n",
       " '10kb',\n",
       " '10m',\n",
       " '10m54s',\n",
       " '10mm',\n",
       " '10pm',\n",
       " '10th',\n",
       " '10ths',\n",
       " '10x',\n",
       " '10yrs',\n",
       " '11',\n",
       " '110',\n",
       " '1100',\n",
       " '1101',\n",
       " '110136001',\n",
       " '1105',\n",
       " '110k',\n",
       " '111',\n",
       " '11110',\n",
       " '112',\n",
       " '1121',\n",
       " '112145924',\n",
       " '1122930jg',\n",
       " '112th',\n",
       " '113',\n",
       " '113bn',\n",
       " '114',\n",
       " '1146',\n",
       " '114th',\n",
       " '115',\n",
       " '11540',\n",
       " '115aug',\n",
       " '115th',\n",
       " '116',\n",
       " '1160',\n",
       " '117',\n",
       " '11702',\n",
       " '1176',\n",
       " '118',\n",
       " '1180',\n",
       " '119',\n",
       " '1190',\n",
       " '11am',\n",
       " '11cm',\n",
       " '11e6',\n",
       " '11mn',\n",
       " '11pm',\n",
       " '11th',\n",
       " '11truther',\n",
       " '12',\n",
       " '120',\n",
       " '1200',\n",
       " '1207',\n",
       " '121',\n",
       " '122',\n",
       " '1228',\n",
       " '123',\n",
       " '12333',\n",
       " '123421',\n",
       " '12345',\n",
       " '124',\n",
       " '124th',\n",
       " '125',\n",
       " '1252',\n",
       " '126',\n",
       " '1261',\n",
       " '12619print',\n",
       " '1265',\n",
       " '127',\n",
       " '127million',\n",
       " '127th',\n",
       " '128',\n",
       " '1280',\n",
       " '1287',\n",
       " '128th',\n",
       " '129',\n",
       " '12am',\n",
       " '12b',\n",
       " '12hdlgeeua87t2ju8m4tbro247yj5u2tvp',\n",
       " '12k',\n",
       " '12m',\n",
       " '12mn',\n",
       " '12news',\n",
       " '12pm',\n",
       " '12sso1zj2bbdguiraddmamlnets7oc1',\n",
       " '12t',\n",
       " '12th',\n",
       " '13',\n",
       " '130',\n",
       " '1300',\n",
       " '1301',\n",
       " '1305',\n",
       " '130500',\n",
       " '130m',\n",
       " '131',\n",
       " '132',\n",
       " '1324',\n",
       " '133',\n",
       " '134',\n",
       " '135',\n",
       " '135s',\n",
       " '136',\n",
       " '13603',\n",
       " '1364',\n",
       " '137',\n",
       " '138',\n",
       " '139',\n",
       " '1393',\n",
       " '13th',\n",
       " '13the',\n",
       " '13y',\n",
       " '13½',\n",
       " '14',\n",
       " '140',\n",
       " '1400',\n",
       " '1400s',\n",
       " '140230',\n",
       " '141',\n",
       " '142',\n",
       " '1425817301725',\n",
       " '143',\n",
       " '143m',\n",
       " '144',\n",
       " '14482302',\n",
       " '145',\n",
       " '146',\n",
       " '1460',\n",
       " '147',\n",
       " '1474',\n",
       " '148',\n",
       " '149',\n",
       " '1492',\n",
       " '14k',\n",
       " '14kwh',\n",
       " '14m',\n",
       " '14mm',\n",
       " '14th',\n",
       " '15',\n",
       " '150',\n",
       " '1500',\n",
       " '1500m',\n",
       " '1500s',\n",
       " '150m',\n",
       " '150th',\n",
       " '151',\n",
       " '1513',\n",
       " '1517',\n",
       " '152',\n",
       " '1521',\n",
       " '1522',\n",
       " '153',\n",
       " '1538',\n",
       " '154',\n",
       " '1543',\n",
       " '155',\n",
       " '1552',\n",
       " '1555',\n",
       " '1559',\n",
       " '156',\n",
       " '1562',\n",
       " '1563',\n",
       " '1566',\n",
       " '1569',\n",
       " '157',\n",
       " '1576',\n",
       " '1578',\n",
       " '158',\n",
       " '1584',\n",
       " '1588',\n",
       " '15893',\n",
       " '159',\n",
       " '1591',\n",
       " '15975445007',\n",
       " '15b',\n",
       " '15e',\n",
       " '15ft',\n",
       " '15million',\n",
       " '15mm',\n",
       " '15pm',\n",
       " '15s',\n",
       " '15th',\n",
       " '15u71',\n",
       " '15yrs',\n",
       " '16',\n",
       " '160',\n",
       " '1600',\n",
       " '1600s',\n",
       " '1605',\n",
       " '1606',\n",
       " '160716',\n",
       " '161',\n",
       " '1610',\n",
       " '161029',\n",
       " '162',\n",
       " '1621',\n",
       " '16236675004',\n",
       " '1624575',\n",
       " '162lvbnkan',\n",
       " '163',\n",
       " '164',\n",
       " '165',\n",
       " '1650',\n",
       " '1652',\n",
       " '166',\n",
       " '167',\n",
       " '168',\n",
       " '1689',\n",
       " '169',\n",
       " '16bn',\n",
       " '16k',\n",
       " '16s',\n",
       " '16th',\n",
       " '17',\n",
       " '170',\n",
       " '1700',\n",
       " '17025',\n",
       " '1708',\n",
       " '171',\n",
       " '1711',\n",
       " '172',\n",
       " '1720',\n",
       " '173',\n",
       " '1730s',\n",
       " '174',\n",
       " '1745',\n",
       " '175',\n",
       " '1752',\n",
       " '176',\n",
       " '1763',\n",
       " '1766',\n",
       " '177',\n",
       " '1770',\n",
       " '1775',\n",
       " '1776',\n",
       " '1777',\n",
       " '178',\n",
       " '1780',\n",
       " '1784',\n",
       " '1786',\n",
       " '1787',\n",
       " '1788',\n",
       " '1789',\n",
       " '179',\n",
       " '1790',\n",
       " '1791',\n",
       " '1793',\n",
       " '1793qianlong',\n",
       " '1795583',\n",
       " '1797',\n",
       " '1798',\n",
       " '1799',\n",
       " '17b2908f',\n",
       " '17k',\n",
       " '17s',\n",
       " '17th',\n",
       " '18',\n",
       " '180',\n",
       " '1800',\n",
       " '1800s',\n",
       " '1801',\n",
       " '1804',\n",
       " '1806',\n",
       " '1808',\n",
       " '181',\n",
       " '1812',\n",
       " '1814',\n",
       " '1815',\n",
       " '1816',\n",
       " '1817',\n",
       " '1818',\n",
       " '182',\n",
       " '1820',\n",
       " '1820s',\n",
       " '1822',\n",
       " '1823',\n",
       " '1824',\n",
       " '1825',\n",
       " '1827',\n",
       " '1829',\n",
       " '182nd',\n",
       " '183',\n",
       " '1830',\n",
       " '1830s',\n",
       " '1831',\n",
       " '1834',\n",
       " '1835',\n",
       " '1837',\n",
       " '1838',\n",
       " '1839',\n",
       " '184',\n",
       " '1840',\n",
       " '1840s',\n",
       " '1841',\n",
       " '1842',\n",
       " '1844',\n",
       " '1845',\n",
       " '1846',\n",
       " '1847',\n",
       " '1848',\n",
       " '1849',\n",
       " '185',\n",
       " '1850',\n",
       " '1850s',\n",
       " '1851',\n",
       " '1853',\n",
       " '1854',\n",
       " '1855',\n",
       " '1856',\n",
       " '1857',\n",
       " '1858',\n",
       " '1859',\n",
       " '186',\n",
       " '1860',\n",
       " '1860s',\n",
       " '1861',\n",
       " '1862',\n",
       " '1863',\n",
       " '1864',\n",
       " '1865',\n",
       " '1868',\n",
       " '1869',\n",
       " '187',\n",
       " '1870',\n",
       " '1870s',\n",
       " '1871',\n",
       " '1872',\n",
       " '1873',\n",
       " '1876',\n",
       " '1877',\n",
       " '1878',\n",
       " '188',\n",
       " '1880',\n",
       " '1881',\n",
       " '1882',\n",
       " '1883',\n",
       " '1884',\n",
       " '1885',\n",
       " '1886',\n",
       " '1887',\n",
       " '1888',\n",
       " '189',\n",
       " '1890',\n",
       " '1890s',\n",
       " '1892',\n",
       " '1893',\n",
       " '1895',\n",
       " '1896',\n",
       " '1897',\n",
       " '1898',\n",
       " '1899',\n",
       " '18f',\n",
       " '18m',\n",
       " '18th',\n",
       " '19',\n",
       " '190',\n",
       " '1900',\n",
       " '1900s',\n",
       " '1901',\n",
       " '1902',\n",
       " '1903',\n",
       " '1904',\n",
       " '1905',\n",
       " '1906',\n",
       " '1907',\n",
       " '1908',\n",
       " '1909',\n",
       " '190th',\n",
       " '191',\n",
       " '1910',\n",
       " '1910s',\n",
       " '1911',\n",
       " '1912',\n",
       " '1913',\n",
       " '1914',\n",
       " '1915',\n",
       " '1916',\n",
       " '1917',\n",
       " '1918',\n",
       " '1919',\n",
       " '191bn',\n",
       " '192',\n",
       " '1920',\n",
       " '1920s',\n",
       " '1921',\n",
       " '1922',\n",
       " '1923',\n",
       " '1924',\n",
       " '1925',\n",
       " '1926',\n",
       " '1927',\n",
       " '1928',\n",
       " '1929',\n",
       " '193',\n",
       " '1930',\n",
       " '1930s',\n",
       " '1931',\n",
       " '1932',\n",
       " '1933',\n",
       " '1934',\n",
       " '1935',\n",
       " '1936',\n",
       " '1937',\n",
       " '1938',\n",
       " '1939',\n",
       " '194',\n",
       " '1940',\n",
       " '1940s',\n",
       " '1941',\n",
       " '1942',\n",
       " '1943',\n",
       " '1944',\n",
       " '1945',\n",
       " '1946',\n",
       " '1947',\n",
       " '1948',\n",
       " '1949',\n",
       " '195',\n",
       " '1950',\n",
       " '1950s',\n",
       " '1951',\n",
       " '1952',\n",
       " '1953',\n",
       " '1954',\n",
       " '1955',\n",
       " '1956',\n",
       " '1957',\n",
       " '1958',\n",
       " '19580395003',\n",
       " '19580405001',\n",
       " '1959',\n",
       " '195th',\n",
       " '196',\n",
       " '1960',\n",
       " '1960s',\n",
       " '1961',\n",
       " '19617315012',\n",
       " '1962',\n",
       " '1963',\n",
       " '1964',\n",
       " '1965',\n",
       " '1966',\n",
       " '1967',\n",
       " '1968',\n",
       " '1969',\n",
       " '197',\n",
       " '1970',\n",
       " '1970s',\n",
       " '1971',\n",
       " '1972',\n",
       " '1973',\n",
       " '1974',\n",
       " '1975',\n",
       " '1976',\n",
       " '1977',\n",
       " '1978',\n",
       " '1979',\n",
       " '1980',\n",
       " '1980s',\n",
       " '1981',\n",
       " '1982',\n",
       " '1983',\n",
       " '1984',\n",
       " '1985',\n",
       " '1986',\n",
       " '1987',\n",
       " '1988',\n",
       " '1989',\n",
       " '198974609375',\n",
       " '199',\n",
       " '1990',\n",
       " '1990s',\n",
       " '1991',\n",
       " '1992',\n",
       " '1993',\n",
       " '1994',\n",
       " '1995',\n",
       " '1996',\n",
       " '1997',\n",
       " '1998',\n",
       " '1999',\n",
       " '19th',\n",
       " '1_2',\n",
       " '1alvwe4bralkh',\n",
       " '1b',\n",
       " '1b1',\n",
       " '1bbswheiehlqifxzus3j35',\n",
       " '1billion',\n",
       " '1bjxt3uhim5fqn93gb0hkxakuarz99d7xcitzftye',\n",
       " '1bs',\n",
       " '1huziqim53',\n",
       " '1hztlj',\n",
       " '1is9krdfnysv0buhf8elizydmsrpwn944flw1tofjw46j4uaxsbrbp284wifmv8n',\n",
       " '1jquvafupk',\n",
       " '1k',\n",
       " '1lb',\n",
       " '1lolamarina',\n",
       " '1m',\n",
       " '1m08s',\n",
       " '1mdb',\n",
       " '1mgfbvy',\n",
       " '1million',\n",
       " '1mm',\n",
       " '1mwvcarc3jsuon8rrxype4espweqzd6zsrbhgh4uqf56pcft2ubnqku4wtgoecsw',\n",
       " '1o6qorkewr',\n",
       " '1oo',\n",
       " '1oth',\n",
       " '1oxutnexun',\n",
       " '1st',\n",
       " '1tn',\n",
       " '1tr',\n",
       " '1tsp',\n",
       " '1vwbsd9c79',\n",
       " '1wrwsaijjsohk5rzj',\n",
       " '1z',\n",
       " '20',\n",
       " '200',\n",
       " '2000',\n",
       " '20001',\n",
       " '2000mg',\n",
       " '2000s',\n",
       " '2001',\n",
       " '20017',\n",
       " '2002',\n",
       " '2003',\n",
       " '2004',\n",
       " '2005',\n",
       " '2006',\n",
       " '2007',\n",
       " '2008',\n",
       " '2009',\n",
       " '200k',\n",
       " '200m',\n",
       " '200x',\n",
       " '201',\n",
       " '2010',\n",
       " '2010s',\n",
       " '2011',\n",
       " '2012',\n",
       " '2012newstart',\n",
       " '2013',\n",
       " '2014',\n",
       " '2015',\n",
       " '20150308054059',\n",
       " '2016',\n",
       " '20161026_spain1',\n",
       " '20161026_spain3',\n",
       " '201611061047117877',\n",
       " '2016a',\n",
       " '2016b',\n",
       " '2016ers',\n",
       " '2017',\n",
       " '2018',\n",
       " '2019',\n",
       " '202',\n",
       " '2020',\n",
       " '2020s',\n",
       " '2021',\n",
       " '2022',\n",
       " '2023',\n",
       " '2024',\n",
       " '2025',\n",
       " '203',\n",
       " '2030',\n",
       " '2030s',\n",
       " '2032',\n",
       " '2033',\n",
       " '2034',\n",
       " '2035',\n",
       " '2036',\n",
       " '2040',\n",
       " '2042',\n",
       " '2043',\n",
       " '2045',\n",
       " '205',\n",
       " '2050',\n",
       " '20500',\n",
       " '20535',\n",
       " '206',\n",
       " '2060',\n",
       " '2064',\n",
       " '207',\n",
       " '2071',\n",
       " '208',\n",
       " '209',\n",
       " '20am',\n",
       " '20book',\n",
       " '20gs',\n",
       " '20k',\n",
       " '20m',\n",
       " '20million',\n",
       " '20p',\n",
       " '20power',\n",
       " '20s',\n",
       " '20th',\n",
       " '20tn',\n",
       " '21',\n",
       " '210',\n",
       " '2100',\n",
       " '2102',\n",
       " '211',\n",
       " '2110',\n",
       " '2117',\n",
       " '212',\n",
       " '213',\n",
       " '2130',\n",
       " '214',\n",
       " '2146815',\n",
       " '2149237058061490',\n",
       " '214r',\n",
       " '215',\n",
       " '216',\n",
       " '217',\n",
       " '218',\n",
       " '218k',\n",
       " '219',\n",
       " '21mn',\n",
       " '21s',\n",
       " '21st',\n",
       " '21wire',\n",
       " '22',\n",
       " '220',\n",
       " '2202',\n",
       " '2205',\n",
       " '221',\n",
       " '221day_m25',\n",
       " '222',\n",
       " '223',\n",
       " '2235360',\n",
       " '224',\n",
       " '225',\n",
       " '226',\n",
       " '226t',\n",
       " '227',\n",
       " '227kg',\n",
       " '228',\n",
       " '229',\n",
       " '22_1171',\n",
       " '22am',\n",
       " '22autoupdate',\n",
       " '22basemap',\n",
       " '22default',\n",
       " '22event',\n",
       " '22feed',\n",
       " '22grayscale',\n",
       " '22list',\n",
       " '22listformat',\n",
       " '22m',\n",
       " '22m3',\n",
       " '22map',\n",
       " '22mapposition',\n",
       " '22nd',\n",
       " '22newest',\n",
       " '22overlays',\n",
       " '22plates',\n",
       " '22pm',\n",
       " '22restrictlisttomap',\n",
       " '22search',\n",
       " '22sort',\n",
       " '22th',\n",
       " '22timezone',\n",
       " '22us1000778i',\n",
       " '22utc',\n",
       " '22viewmodes',\n",
       " '23',\n",
       " '230',\n",
       " '231',\n",
       " '232',\n",
       " '233',\n",
       " '234',\n",
       " '2344',\n",
       " '235',\n",
       " '236',\n",
       " '237',\n",
       " '238',\n",
       " '239',\n",
       " '23a007c77bb4_story',\n",
       " '23k',\n",
       " '23rd',\n",
       " '24',\n",
       " '240',\n",
       " '241',\n",
       " '242',\n",
       " '243',\n",
       " '244',\n",
       " '24454002',\n",
       " '244th',\n",
       " '245',\n",
       " '2450',\n",
       " '246',\n",
       " '247',\n",
       " '2472',\n",
       " '24888',\n",
       " '249',\n",
       " '24news',\n",
       " '24th',\n",
       " '25',\n",
       " '250',\n",
       " '25018606',\n",
       " '250m',\n",
       " '251',\n",
       " '2510',\n",
       " '2513',\n",
       " '252',\n",
       " '253',\n",
       " '253207',\n",
       " '254',\n",
       " '25421',\n",
       " '2544',\n",
       " '255',\n",
       " '2552',\n",
       " '256',\n",
       " '257',\n",
       " '25751119',\n",
       " '258',\n",
       " '25am',\n",
       " '25m',\n",
       " '25th',\n",
       " '25the',\n",
       " '26',\n",
       " '260',\n",
       " '261',\n",
       " '262',\n",
       " '263',\n",
       " '2635',\n",
       " '264',\n",
       " '265',\n",
       " '2656002',\n",
       " '267',\n",
       " '2670',\n",
       " '268',\n",
       " '269',\n",
       " '26t18',\n",
       " '26th',\n",
       " '27',\n",
       " '270',\n",
       " '2700',\n",
       " '2700922',\n",
       " '27026',\n",
       " '2703',\n",
       " '271',\n",
       " '2711',\n",
       " '27111',\n",
       " '272',\n",
       " '273',\n",
       " '274',\n",
       " '275',\n",
       " '276',\n",
       " '277',\n",
       " '278',\n",
       " '279',\n",
       " '27th',\n",
       " '28',\n",
       " '280',\n",
       " '281',\n",
       " '282',\n",
       " '283',\n",
       " '284',\n",
       " '28403',\n",
       " '285',\n",
       " '286',\n",
       " '28657',\n",
       " '287',\n",
       " '288',\n",
       " '289',\n",
       " '28am',\n",
       " '28th',\n",
       " '29',\n",
       " '290',\n",
       " '2900',\n",
       " '2900100001',\n",
       " '291',\n",
       " '292',\n",
       " '293',\n",
       " '29385',\n",
       " '29385ote',\n",
       " '294',\n",
       " '295',\n",
       " '2950100001',\n",
       " '29549',\n",
       " '296',\n",
       " '297',\n",
       " '298',\n",
       " '29th',\n",
       " '2a',\n",
       " '2am',\n",
       " '2b',\n",
       " '2bowles',\n",
       " '2c',\n",
       " '2ccrww3wqeay',\n",
       " '2ckus9qi9g',\n",
       " '2cs',\n",
       " '2d',\n",
       " '2degrees',\n",
       " '2f',\n",
       " '2f102516_6',\n",
       " '2f16',\n",
       " '2fnews',\n",
       " '2fpreventdisease',\n",
       " '2gary2',\n",
       " '2gkhtimovh',\n",
       " '2hibftjxscml3k8k6mbdi8p9zvcmjsxbppcyrffw9a6t',\n",
       " '2hzuvxyp8k',\n",
       " '2k',\n",
       " '2kkpwafd9pxaqnwjmpd4amk60l3n',\n",
       " '2l',\n",
       " '2m',\n",
       " '2m52s',\n",
       " '2nd',\n",
       " '2o16',\n",
       " '2paragraphs',\n",
       " '2percent',\n",
       " '2plwa3cerym6byp60362co7cpzochyhsvgppzyh0qex',\n",
       " '2s',\n",
       " '2x',\n",
       " '2yiugiyosv',\n",
       " '2yxlvcf03qflflgzzfn7fcv5jw',\n",
       " '2zksz3xesc7mmpgrzanh4pk1dlr',\n",
       " '2½',\n",
       " '30',\n",
       " '300',\n",
       " '3000',\n",
       " '3001',\n",
       " '300k',\n",
       " '300kg',\n",
       " '301',\n",
       " '302',\n",
       " '3037',\n",
       " '304',\n",
       " '305',\n",
       " '306',\n",
       " '307',\n",
       " '308',\n",
       " ...]"
      ]
     },
     "execution_count": 29,
     "metadata": {},
     "output_type": "execute_result"
    }
   ],
   "source": [
    "cv1.get_feature_names()"
   ]
  },
  {
   "cell_type": "code",
   "execution_count": 30,
   "metadata": {},
   "outputs": [
    {
     "data": {
      "text/plain": [
       "'The supreme court justice Ruth Bader Ginsburg executed a full U-turn on Thursday morning, over remarks about the presumptive Republican presidential nominee Donald Trump that ignited controversy on the eve of the GOP convention.\\n\\n\\n\\nHer remarks about Trump were “ill-advised”, she said, adding: “I regret making them.”\\n\\nIn an interview with the New York Times last week, Ginsburg said she could not “imagine what the country would be with Donald Trump as our president” and suggested her late husband would have taken such a scenario as a reason to emigrate – as far away as New Zealand.\\n\\nGinsburg, 83, was the first supreme court justice in decades to comment publicly on a candidate in the middle of the presidential campaign.\\n\\nHer comments sparked indignation, dismay and accusations that she had violated judicial ethics. Trump called for her to resign.\\n\\nDespite this, Ginsburg doubled down, calling Trump a faker and telling CNN in an interview published on Tuesday: “He really has an ego.”\\n\\nBy Thursday, she appeared to have considered her words and their implications more deeply. In a statement, she said: “On reflection, my recent remarks in response to press inquiries were ill-advised and I regret making them.\\n\\n“Judges should avoid commenting on a candidate for public office. In the future I will be more circumspect.”\\n\\nSupreme court justices are expected to adhere to a code of conduct issued for US judges, which stipulates that they refrain from publicly endorsing or opposing any candidate for public office. They are not officially bound by the code but generally agree to follow it.\\n\\nGinsburg’s comments were not only rare but also particularly colorful for someone in her position. She has however gained something of a celebrity aura in recent years, with liberal supporters using the affectionate moniker “Notorious RBG”, echoing the nickname “Notorious BIG”, which was given to the late rapper Biggie Smalls.\\n\\nEarlier this week, the White House spokesman, Josh Earnest, commented that Ginsburg, who is currently writing a book called My Own Words, did not become known as the Notorious RBG “for nothing”.\\n\\nAlthough she has long been known as a member of the liberal wing of the court, Ginsburg’s frank and blatantly political and personal comments about Trump appeared to come out of the blue.\\n\\n\\n\\nOn Monday, she told CNN that she had first thought Trump’s candidacy was “funny”. As he was about to become the GOP nominee, though, she slammed him in personal terms, saying: “He has no consistency about him. He says whatever comes into his head at the moment.”\\n\\nTrump told the New York Times her comments were “highly inappropriate” and “beneath the bench” and that she had let her fellow justices down.\\n\\nThe Times and the Washington Post have both published editorials agreeing with Trump.'"
      ]
     },
     "execution_count": 30,
     "metadata": {},
     "output_type": "execute_result"
    }
   ],
   "source": [
    "x_train.iloc[0]"
   ]
  },
  {
   "cell_type": "markdown",
   "metadata": {},
   "source": [
    "# Multinomial Naive-Bayes For Tfid Vectorizer"
   ]
  },
  {
   "cell_type": "code",
   "execution_count": 31,
   "metadata": {},
   "outputs": [],
   "source": [
    "mnb = MultinomialNB()"
   ]
  },
  {
   "cell_type": "code",
   "execution_count": 32,
   "metadata": {},
   "outputs": [],
   "source": [
    "#to make the training data integer\n",
    "y_train=y_train.astype('int')"
   ]
  },
  {
   "cell_type": "code",
   "execution_count": 33,
   "metadata": {},
   "outputs": [
    {
     "data": {
      "text/plain": [
       "MultinomialNB(alpha=1.0, class_prior=None, fit_prior=True)"
      ]
     },
     "execution_count": 33,
     "metadata": {},
     "output_type": "execute_result"
    }
   ],
   "source": [
    "mnb.fit(x_traintv1,y_train)"
   ]
  },
  {
   "cell_type": "code",
   "execution_count": 34,
   "metadata": {},
   "outputs": [],
   "source": [
    "x_testtv = tv1.transform(x_test)"
   ]
  },
  {
   "cell_type": "code",
   "execution_count": 35,
   "metadata": {},
   "outputs": [
    {
     "data": {
      "text/html": [
       "<div>\n",
       "<style scoped>\n",
       "    .dataframe tbody tr th:only-of-type {\n",
       "        vertical-align: middle;\n",
       "    }\n",
       "\n",
       "    .dataframe tbody tr th {\n",
       "        vertical-align: top;\n",
       "    }\n",
       "\n",
       "    .dataframe thead th {\n",
       "        text-align: right;\n",
       "    }\n",
       "</style>\n",
       "<table border=\"1\" class=\"dataframe\">\n",
       "  <thead>\n",
       "    <tr style=\"text-align: right;\">\n",
       "      <th></th>\n",
       "      <th>title</th>\n",
       "      <th>text</th>\n",
       "    </tr>\n",
       "    <tr>\n",
       "      <th>Unnamed: 0</th>\n",
       "      <th></th>\n",
       "      <th></th>\n",
       "    </tr>\n",
       "  </thead>\n",
       "  <tbody>\n",
       "    <tr>\n",
       "      <th>8476</th>\n",
       "      <td>You Can Smell Hillary’s Fear</td>\n",
       "      <td>Daniel Greenfield, a Shillman Journalism Fello...</td>\n",
       "    </tr>\n",
       "    <tr>\n",
       "      <th>10294</th>\n",
       "      <td>Watch The Exact Moment Paul Ryan Committed Pol...</td>\n",
       "      <td>Google Pinterest Digg Linkedin Reddit Stumbleu...</td>\n",
       "    </tr>\n",
       "    <tr>\n",
       "      <th>3608</th>\n",
       "      <td>Kerry to go to Paris in gesture of sympathy</td>\n",
       "      <td>U.S. Secretary of State John F. Kerry said Mon...</td>\n",
       "    </tr>\n",
       "    <tr>\n",
       "      <th>10142</th>\n",
       "      <td>Bernie supporters on Twitter erupt in anger ag...</td>\n",
       "      <td>— Kaydee King (@KaydeeKing) November 9, 2016 T...</td>\n",
       "    </tr>\n",
       "    <tr>\n",
       "      <th>875</th>\n",
       "      <td>The Battle of New York: Why This Primary Matters</td>\n",
       "      <td>It's primary day in New York and front-runners...</td>\n",
       "    </tr>\n",
       "  </tbody>\n",
       "</table>\n",
       "</div>"
      ],
      "text/plain": [
       "                                                        title  \\\n",
       "Unnamed: 0                                                      \n",
       "8476                             You Can Smell Hillary’s Fear   \n",
       "10294       Watch The Exact Moment Paul Ryan Committed Pol...   \n",
       "3608              Kerry to go to Paris in gesture of sympathy   \n",
       "10142       Bernie supporters on Twitter erupt in anger ag...   \n",
       "875          The Battle of New York: Why This Primary Matters   \n",
       "\n",
       "                                                         text  \n",
       "Unnamed: 0                                                     \n",
       "8476        Daniel Greenfield, a Shillman Journalism Fello...  \n",
       "10294       Google Pinterest Digg Linkedin Reddit Stumbleu...  \n",
       "3608        U.S. Secretary of State John F. Kerry said Mon...  \n",
       "10142       — Kaydee King (@KaydeeKing) November 9, 2016 T...  \n",
       "875         It's primary day in New York and front-runners...  "
      ]
     },
     "execution_count": 35,
     "metadata": {},
     "output_type": "execute_result"
    }
   ],
   "source": [
    "df.head()"
   ]
  },
  {
   "cell_type": "code",
   "execution_count": 36,
   "metadata": {},
   "outputs": [],
   "source": [
    "pred = mnb.predict(x_testtv)"
   ]
  },
  {
   "cell_type": "code",
   "execution_count": 37,
   "metadata": {},
   "outputs": [
    {
     "data": {
      "text/plain": [
       "array([1, 1, 1, ..., 1, 1, 1])"
      ]
     },
     "execution_count": 37,
     "metadata": {},
     "output_type": "execute_result"
    }
   ],
   "source": [
    "#prediction the test datas\n",
    "pred"
   ]
  },
  {
   "cell_type": "code",
   "execution_count": 38,
   "metadata": {},
   "outputs": [],
   "source": [
    "#taking y_test to numpy array\n",
    "actual = np.array(y_test)"
   ]
  },
  {
   "cell_type": "code",
   "execution_count": 39,
   "metadata": {},
   "outputs": [
    {
     "data": {
      "text/plain": [
       "array([1, 0, 1, ..., 1, 1, 1], dtype=object)"
      ]
     },
     "execution_count": 39,
     "metadata": {},
     "output_type": "execute_result"
    }
   ],
   "source": [
    "actual"
   ]
  },
  {
   "cell_type": "code",
   "execution_count": 40,
   "metadata": {},
   "outputs": [],
   "source": [
    "count = 0\n",
    "for i in range(len(pred)):\n",
    "    if pred[i] == actual[i]:\n",
    "        count = count+1"
   ]
  },
  {
   "cell_type": "code",
   "execution_count": 41,
   "metadata": {},
   "outputs": [
    {
     "data": {
      "text/plain": [
       "1098"
      ]
     },
     "execution_count": 41,
     "metadata": {},
     "output_type": "execute_result"
    }
   ],
   "source": [
    "count"
   ]
  },
  {
   "cell_type": "code",
   "execution_count": 42,
   "metadata": {},
   "outputs": [
    {
     "data": {
      "text/plain": [
       "0.8666140489344909"
      ]
     },
     "execution_count": 42,
     "metadata": {},
     "output_type": "execute_result"
    }
   ],
   "source": [
    "accuracy = count/len(pred)\n",
    "accuracy"
   ]
  },
  {
   "cell_type": "markdown",
   "metadata": {},
   "source": [
    "# Using Naive-Bayes For Count Vectorizer"
   ]
  },
  {
   "cell_type": "code",
   "execution_count": 43,
   "metadata": {},
   "outputs": [],
   "source": [
    "mnbcv =  MultinomialNB()"
   ]
  },
  {
   "cell_type": "code",
   "execution_count": 44,
   "metadata": {},
   "outputs": [],
   "source": [
    "#to make the training data integer\n",
    "y_train = y_train.astype('int')\n",
    "# y_train"
   ]
  },
  {
   "cell_type": "code",
   "execution_count": 45,
   "metadata": {},
   "outputs": [
    {
     "data": {
      "text/plain": [
       "<5068x61666 sparse matrix of type '<class 'numpy.int64'>'\n",
       "\twith 1726397 stored elements in Compressed Sparse Row format>"
      ]
     },
     "execution_count": 45,
     "metadata": {},
     "output_type": "execute_result"
    }
   ],
   "source": [
    "x_traincv1"
   ]
  },
  {
   "cell_type": "code",
   "execution_count": 46,
   "metadata": {},
   "outputs": [
    {
     "data": {
      "text/plain": [
       "MultinomialNB(alpha=1.0, class_prior=None, fit_prior=True)"
      ]
     },
     "execution_count": 46,
     "metadata": {},
     "output_type": "execute_result"
    }
   ],
   "source": [
    "mnbcv.fit(x_traincv1,y_train)"
   ]
  },
  {
   "cell_type": "code",
   "execution_count": 47,
   "metadata": {},
   "outputs": [],
   "source": [
    "x_testcv = cv1.transform(x_test)"
   ]
  },
  {
   "cell_type": "code",
   "execution_count": 48,
   "metadata": {},
   "outputs": [
    {
     "data": {
      "text/plain": [
       "<1267x61666 sparse matrix of type '<class 'numpy.int64'>'\n",
       "\twith 425470 stored elements in Compressed Sparse Row format>"
      ]
     },
     "execution_count": 48,
     "metadata": {},
     "output_type": "execute_result"
    }
   ],
   "source": [
    "x_testcv"
   ]
  },
  {
   "cell_type": "code",
   "execution_count": 49,
   "metadata": {},
   "outputs": [],
   "source": [
    "pred = mnbcv.predict(x_testcv)"
   ]
  },
  {
   "cell_type": "code",
   "execution_count": 50,
   "metadata": {},
   "outputs": [
    {
     "data": {
      "text/plain": [
       "array([1, 1, 1, ..., 1, 1, 1])"
      ]
     },
     "execution_count": 50,
     "metadata": {},
     "output_type": "execute_result"
    }
   ],
   "source": [
    "#prediction the test datas\n",
    "pred"
   ]
  },
  {
   "cell_type": "code",
   "execution_count": null,
   "metadata": {},
   "outputs": [],
   "source": []
  },
  {
   "cell_type": "code",
   "execution_count": 51,
   "metadata": {},
   "outputs": [],
   "source": [
    "#taking y_test to numpy array\n",
    "actual = np.array(y_test)"
   ]
  },
  {
   "cell_type": "code",
   "execution_count": 52,
   "metadata": {},
   "outputs": [
    {
     "data": {
      "text/plain": [
       "array([1, 0, 1, ..., 1, 1, 1], dtype=object)"
      ]
     },
     "execution_count": 52,
     "metadata": {},
     "output_type": "execute_result"
    }
   ],
   "source": [
    "actual"
   ]
  },
  {
   "cell_type": "code",
   "execution_count": 53,
   "metadata": {},
   "outputs": [],
   "source": [
    "countcv = 0\n",
    "for i in range(len(pred)):\n",
    "    if pred[i] == actual[i]:\n",
    "        countcv = countcv + 1"
   ]
  },
  {
   "cell_type": "code",
   "execution_count": 54,
   "metadata": {},
   "outputs": [
    {
     "data": {
      "text/plain": [
       "1128"
      ]
     },
     "execution_count": 54,
     "metadata": {},
     "output_type": "execute_result"
    }
   ],
   "source": [
    "countcv"
   ]
  },
  {
   "cell_type": "code",
   "execution_count": 55,
   "metadata": {},
   "outputs": [
    {
     "data": {
      "text/plain": [
       "1267"
      ]
     },
     "execution_count": 55,
     "metadata": {},
     "output_type": "execute_result"
    }
   ],
   "source": [
    "len(pred)"
   ]
  },
  {
   "cell_type": "code",
   "execution_count": 56,
   "metadata": {},
   "outputs": [
    {
     "data": {
      "text/plain": [
       "0.8902920284135754"
      ]
     },
     "execution_count": 56,
     "metadata": {},
     "output_type": "execute_result"
    }
   ],
   "source": [
    "accuracy = countcv/len(pred)\n",
    "accuracy"
   ]
  },
  {
   "cell_type": "markdown",
   "metadata": {},
   "source": [
    "# Using Logistic Regression to Classify as FAKE or REAL"
   ]
  },
  {
   "cell_type": "code",
   "execution_count": 57,
   "metadata": {},
   "outputs": [],
   "source": [
    "#Reading the Dataset from CSV file\n",
    "data = pd.read_csv('./fake_or_real_news.csv', header=None)"
   ]
  },
  {
   "cell_type": "code",
   "execution_count": 58,
   "metadata": {},
   "outputs": [],
   "source": [
    "#Splitting the Data into Train and Test with 0.33 as test sets\n",
    "train_x, test_x, train_y, test_y = train_test_split(data[2], data[3])"
   ]
  },
  {
   "cell_type": "code",
   "execution_count": 59,
   "metadata": {},
   "outputs": [
    {
     "data": {
      "text/html": [
       "<div>\n",
       "<style scoped>\n",
       "    .dataframe tbody tr th:only-of-type {\n",
       "        vertical-align: middle;\n",
       "    }\n",
       "\n",
       "    .dataframe tbody tr th {\n",
       "        vertical-align: top;\n",
       "    }\n",
       "\n",
       "    .dataframe thead th {\n",
       "        text-align: right;\n",
       "    }\n",
       "</style>\n",
       "<table border=\"1\" class=\"dataframe\">\n",
       "  <thead>\n",
       "    <tr style=\"text-align: right;\">\n",
       "      <th></th>\n",
       "      <th>0</th>\n",
       "      <th>1</th>\n",
       "      <th>2</th>\n",
       "      <th>3</th>\n",
       "    </tr>\n",
       "  </thead>\n",
       "  <tbody>\n",
       "    <tr>\n",
       "      <th>0</th>\n",
       "      <td>NaN</td>\n",
       "      <td>title</td>\n",
       "      <td>text</td>\n",
       "      <td>label</td>\n",
       "    </tr>\n",
       "    <tr>\n",
       "      <th>1</th>\n",
       "      <td>8476.0</td>\n",
       "      <td>You Can Smell Hillary’s Fear</td>\n",
       "      <td>Daniel Greenfield, a Shillman Journalism Fello...</td>\n",
       "      <td>FAKE</td>\n",
       "    </tr>\n",
       "    <tr>\n",
       "      <th>2</th>\n",
       "      <td>10294.0</td>\n",
       "      <td>Watch The Exact Moment Paul Ryan Committed Pol...</td>\n",
       "      <td>Google Pinterest Digg Linkedin Reddit Stumbleu...</td>\n",
       "      <td>FAKE</td>\n",
       "    </tr>\n",
       "    <tr>\n",
       "      <th>3</th>\n",
       "      <td>3608.0</td>\n",
       "      <td>Kerry to go to Paris in gesture of sympathy</td>\n",
       "      <td>U.S. Secretary of State John F. Kerry said Mon...</td>\n",
       "      <td>REAL</td>\n",
       "    </tr>\n",
       "    <tr>\n",
       "      <th>4</th>\n",
       "      <td>10142.0</td>\n",
       "      <td>Bernie supporters on Twitter erupt in anger ag...</td>\n",
       "      <td>— Kaydee King (@KaydeeKing) November 9, 2016 T...</td>\n",
       "      <td>FAKE</td>\n",
       "    </tr>\n",
       "  </tbody>\n",
       "</table>\n",
       "</div>"
      ],
      "text/plain": [
       "         0                                                  1  \\\n",
       "0      NaN                                              title   \n",
       "1   8476.0                       You Can Smell Hillary’s Fear   \n",
       "2  10294.0  Watch The Exact Moment Paul Ryan Committed Pol...   \n",
       "3   3608.0        Kerry to go to Paris in gesture of sympathy   \n",
       "4  10142.0  Bernie supporters on Twitter erupt in anger ag...   \n",
       "\n",
       "                                                   2      3  \n",
       "0                                               text  label  \n",
       "1  Daniel Greenfield, a Shillman Journalism Fello...   FAKE  \n",
       "2  Google Pinterest Digg Linkedin Reddit Stumbleu...   FAKE  \n",
       "3  U.S. Secretary of State John F. Kerry said Mon...   REAL  \n",
       "4  — Kaydee King (@KaydeeKing) November 9, 2016 T...   FAKE  "
      ]
     },
     "execution_count": 59,
     "metadata": {},
     "output_type": "execute_result"
    }
   ],
   "source": [
    "data.head()"
   ]
  },
  {
   "cell_type": "code",
   "execution_count": 60,
   "metadata": {},
   "outputs": [],
   "source": [
    "#Using the Tfid Vectorizer because the size of the dataset is Large\n",
    "vectorizer = TfidfVectorizer(stop_words='english')\n",
    "tfidf_train_x = vectorizer.fit_transform(train_x)"
   ]
  },
  {
   "cell_type": "code",
   "execution_count": 61,
   "metadata": {},
   "outputs": [
    {
     "name": "stderr",
     "output_type": "stream",
     "text": [
      "/home/prajwol/anaconda3/lib/python3.7/site-packages/sklearn/linear_model/logistic.py:433: FutureWarning: Default solver will be changed to 'lbfgs' in 0.22. Specify a solver to silence this warning.\n",
      "  FutureWarning)\n"
     ]
    },
    {
     "data": {
      "text/plain": [
       "LogisticRegression(C=1.0, class_weight=None, dual=False, fit_intercept=True,\n",
       "          intercept_scaling=1, max_iter=100, multi_class='warn',\n",
       "          n_jobs=None, penalty='l2', random_state=None, solver='warn',\n",
       "          tol=0.0001, verbose=0, warm_start=False)"
      ]
     },
     "execution_count": 61,
     "metadata": {},
     "output_type": "execute_result"
    }
   ],
   "source": [
    "#Now using the Logistic Regression Algorithm to characterize as Fake or Real\n",
    "classifier = LogisticRegression()\n",
    "classifier.fit(tfidf_train_x, train_y)"
   ]
  },
  {
   "cell_type": "code",
   "execution_count": 62,
   "metadata": {},
   "outputs": [
    {
     "name": "stdout",
     "output_type": "stream",
     "text": [
      "(1584, 59774)\n"
     ]
    },
    {
     "data": {
      "text/plain": [
       "<1584x59774 sparse matrix of type '<class 'numpy.float64'>'\n",
       "\twith 405271 stored elements in Compressed Sparse Row format>"
      ]
     },
     "execution_count": 62,
     "metadata": {},
     "output_type": "execute_result"
    }
   ],
   "source": [
    "#After transform the test data will be stored as a float in case of TFID\n",
    "tfidf_test_x = vectorizer.transform(test_x)\n",
    "print(tfidf_test_x.shape)\n",
    "tfidf_test_x"
   ]
  },
  {
   "cell_type": "code",
   "execution_count": 63,
   "metadata": {},
   "outputs": [
    {
     "name": "stderr",
     "output_type": "stream",
     "text": [
      "/home/prajwol/anaconda3/lib/python3.7/site-packages/sklearn/model_selection/_split.py:652: Warning: The least populated class in y has only 1 members, which is too few. The minimum number of members in any class cannot be less than n_splits=5.\n",
      "  % (min_groups, self.n_splits)), Warning)\n",
      "/home/prajwol/anaconda3/lib/python3.7/site-packages/sklearn/linear_model/logistic.py:433: FutureWarning: Default solver will be changed to 'lbfgs' in 0.22. Specify a solver to silence this warning.\n",
      "  FutureWarning)\n",
      "/home/prajwol/anaconda3/lib/python3.7/site-packages/sklearn/linear_model/logistic.py:460: FutureWarning: Default multi_class will be changed to 'auto' in 0.22. Specify the multi_class option to silence this warning.\n",
      "  \"this warning.\", FutureWarning)\n"
     ]
    },
    {
     "name": "stdout",
     "output_type": "stream",
     "text": [
      "88.76378334593653\n"
     ]
    }
   ],
   "source": [
    "#Finding the Accuracy Score for the Algorithm\n",
    "accuracy = cross_val_score(classifier, tfidf_test_x, test_y, cv=5)\n",
    "acc = accuracy.mean()\n",
    "print(acc * 100)"
   ]
  },
  {
   "cell_type": "code",
   "execution_count": 66,
   "metadata": {},
   "outputs": [
    {
     "name": "stdout",
     "output_type": "stream",
     "text": [
      "Enter the news you want to validate: \n",
      "\n",
      "\n",
      "KATHMANDU: The Business Advisory Committee meeting is underway to convene the meeting of the House of Representatives today.  Speaker Krishna Bahadur Mahara had been trying to create environment to forge consensus in order to convene the House meeting since the ruling Nepal Communist Party (NCP) and opposition parties — Nepali Congress and Rastriya Janata Party-Nepal — left the House on July 15.  The NCP wanted to allow Home Minister Ram Bahadur Thapa to speak first in the House, whereas the opposition parties jointly registered a motion on a matter of public importance to discuss ways to support people affected by floods and landslides and they wanted to discuss this agenda first.\n"
     ]
    }
   ],
   "source": [
    "#Entering the news to check its validity\n",
    "print(\"Enter the news you want to validate: \\n\\n\")\n",
    "news = [input()]\n",
    "output = classifier.predict(vectorizer.transform(news))"
   ]
  },
  {
   "cell_type": "code",
   "execution_count": 67,
   "metadata": {},
   "outputs": [
    {
     "name": "stdout",
     "output_type": "stream",
     "text": [
      "FAKE FAKE FAKE !!!\n"
     ]
    }
   ],
   "source": [
    "print((output[0]+\" \")*3+\"!!!\") "
   ]
  },
  {
   "cell_type": "code",
   "execution_count": null,
   "metadata": {},
   "outputs": [],
   "source": []
  },
  {
   "cell_type": "code",
   "execution_count": null,
   "metadata": {},
   "outputs": [],
   "source": []
  }
 ],
 "metadata": {
  "kernelspec": {
   "display_name": "Python 3",
   "language": "python",
   "name": "python3"
  },
  "language_info": {
   "codemirror_mode": {
    "name": "ipython",
    "version": 3
   },
   "file_extension": ".py",
   "mimetype": "text/x-python",
   "name": "python",
   "nbconvert_exporter": "python",
   "pygments_lexer": "ipython3",
   "version": "3.7.3"
  }
 },
 "nbformat": 4,
 "nbformat_minor": 2
}
